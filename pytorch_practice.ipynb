{
 "cells": [
  {
   "cell_type": "code",
   "execution_count": 6,
   "metadata": {},
   "outputs": [
    {
     "data": {
      "text/plain": [
       "Sequential(\n",
       "  (0): Conv2d(1, 20, kernel_size=(5, 5), stride=(1, 1))\n",
       "  (1): ReLU()\n",
       "  (2): Conv2d(20, 64, kernel_size=(5, 5), stride=(1, 1))\n",
       "  (3): ReLU()\n",
       ")"
      ]
     },
     "execution_count": 6,
     "metadata": {},
     "output_type": "execute_result"
    }
   ],
   "source": [
    "import torch.nn as nn\n",
    "model = nn.Sequential(\n",
    "                nn.Conv2d(1, 20, 5),\n",
    "                nn.ReLU(),\n",
    "                nn.Conv2d(20, 64, 5),\n",
    "                nn.ReLU()\n",
    "            )\n",
    "\n",
    "model\n"
   ]
  },
  {
   "cell_type": "code",
   "execution_count": 7,
   "metadata": {},
   "outputs": [
    {
     "data": {
      "text/plain": [
       "Model(\n",
       "  (conv1): Conv2d(1, 20, kernel_size=(5, 5), stride=(1, 1))\n",
       "  (conv2): Conv2d(20, 64, kernel_size=(5, 5), stride=(1, 1))\n",
       ")"
      ]
     },
     "execution_count": 7,
     "metadata": {},
     "output_type": "execute_result"
    }
   ],
   "source": [
    "import torch.nn as nn\n",
    "import torch.nn.functional as F\n",
    "\n",
    "class Model(nn.Module):\n",
    "    def __init__(self):\n",
    "        super(Model, self).__init__()\n",
    "        self.conv1 = nn.Conv2d(1, 20, 5)\n",
    "        self.conv2 = nn.Conv2d(20, 64, 5)\n",
    "        \n",
    "    def foward(self, x):\n",
    "        x = F.relu(self.conv1(x))\n",
    "        return F.relu(self.conv2)\n",
    "    \n",
    "model = Model()\n",
    "model"
   ]
  },
  {
   "cell_type": "code",
   "execution_count": 12,
   "metadata": {},
   "outputs": [
    {
     "name": "stdout",
     "output_type": "stream",
     "text": [
      "tensor(2.1480)\n"
     ]
    }
   ],
   "source": [
    "import torch\n",
    "x = torch.randn(4)\n",
    "y = torch.randn(4)\n",
    "\n",
    "criterion = nn.MSELoss()\n",
    "loss = criterion(x, y)\n",
    "print(loss)"
   ]
  },
  {
   "cell_type": "code",
   "execution_count": 13,
   "metadata": {},
   "outputs": [
    {
     "name": "stdout",
     "output_type": "stream",
     "text": [
      "tensor(1.1452)\n"
     ]
    }
   ],
   "source": [
    "x = torch.randn(1, 4)\n",
    "y = torch.LongTensor([1]).random_(4)\n",
    "criterion = nn.CrossEntropyLoss()\n",
    "loss = criterion(x, y)\n",
    "print(loss)"
   ]
  },
  {
   "cell_type": "code",
   "execution_count": 14,
   "metadata": {},
   "outputs": [],
   "source": [
    "class Net(nn.Module):\n",
    "    def __init__(self):\n",
    "        super(Net, self).__init__()\n",
    "        self.line = nn.Linear(in_features=10, out_features=10, bias=False)\n",
    "        \n",
    "    def forward(self, x):\n",
    "        x = self.line(x)\n",
    "        return x"
   ]
  },
  {
   "cell_type": "code",
   "execution_count": 22,
   "metadata": {},
   "outputs": [
    {
     "data": {
      "image/png": "[encoded data removed]",
      "text/plain": [
       "<Figure size 432x288 with 1 Axes>"
      ]
     },
     "metadata": {
      "needs_background": "light"
     },
     "output_type": "display_data"
    }
   ],
   "source": [
    "import torch\n",
    "from torch import optim\n",
    "import matplotlib.pyplot as plt\n",
    "\n",
    "def main(opt_conf):\n",
    "    loss_list = []\n",
    "    x = torch.randn(1, 10)\n",
    "    w = torch.randn(1, 1)\n",
    "    y = torch.mul(w, x) + 2\n",
    "    \n",
    "    net = Net()\n",
    "    \n",
    "    criterion = nn.MSELoss()\n",
    "    \n",
    "    if opt_conf == \"sgd\":\n",
    "        optimizer = optim.SGD(net.parameters(), lr=0.1)\n",
    "    elif opt_conf == \"momentum_sgd\":\n",
    "        optimizer = optim.SGD(net.parameters(), lr=0.1, momentum=0.9)\n",
    "    elif opt_conf == \"adadelta\":\n",
    "        optimizer = optim.Adadelta(net.parameters(), rho=0.95, eps=1e-04)\n",
    "    elif opt_conf == \"adagrad\":\n",
    "        optimizer = optim.Adagrad(net.parameters())\n",
    "    elif opt_conf ==\"adam\":\n",
    "        optimizer = optim.Adam(net.parameters(), lr=1e-1, betas=(0.9, 0.99), eps=1e-09)\n",
    "    elif opt_conf == \"rmsprop\":\n",
    "        optimizer = optim.RMSprop(net.parameters())\n",
    "    for epoch in range(20):\n",
    "        optimizer.zero_grad()\n",
    "        y_pred = net(x)\n",
    "        \n",
    "        loss = criterion(y_pred, y)\n",
    "        loss.backward()\n",
    "        optimizer.step()\n",
    "        loss_list.append(loss.data.item())\n",
    "    return loss_list\n",
    "\n",
    "loss_dict = {}\n",
    "loss_dict[\"sgd\"] = []\n",
    "loss_dict[\"momentum_sgd\"] = []\n",
    "loss_dict[\"adadelta\"] = []\n",
    "loss_dict[\"adam\"] = []\n",
    "loss_dict[\"rmsprop\"] = []\n",
    "    \n",
    "for key, value in loss_dict.items():\n",
    "    loss_dict[key] = main(key)\n",
    "    \n",
    "plt.figure()\n",
    "plt.plot(loss_dict[\"sgd\"], label='sgd')\n",
    "plt.plot(loss_dict[\"momentum_sgd\"], label='momentum_sgd')\n",
    "plt.plot(loss_dict[\"adadelta\"], label='adatelta')\n",
    "plt.plot(loss_dict[\"adam\"], label='adam')\n",
    "plt.plot(loss_dict[\"rmsprop\"], label='rmsprop')\n",
    "plt.legend()\n",
    "plt.grid()"
   ]
  },
  {
   "cell_type": "code",
   "execution_count": null,
   "metadata": {},
   "outputs": [],
   "source": []
  }
 ],
 "metadata": {
  "kernelspec": {
   "display_name": "Python 3",
   "language": "python",
   "name": "python3"
  },
  "language_info": {
   "codemirror_mode": {
    "name": "ipython",
    "version": 3
   },
   "file_extension": ".py",
   "mimetype": "text/x-python",
   "name": "python",
   "nbconvert_exporter": "python",
   "pygments_lexer": "ipython3",
   "version": "3.7.4"
  }
 },
 "nbformat": 4,
 "nbformat_minor": 4
}
